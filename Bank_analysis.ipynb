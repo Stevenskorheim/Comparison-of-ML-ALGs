{
 "cells": [
  {
   "cell_type": "code",
   "execution_count": 1,
   "id": "df9fac60-87d8-4987-aab4-b6d951ac32da",
   "metadata": {},
   "outputs": [
    {
     "name": "stdout",
     "output_type": "stream",
     "text": [
      "   age           job  marital  education default  balance housing loan  \\\n",
      "0   58    management  married   tertiary      no     2143     yes   no   \n",
      "1   44    technician   single  secondary      no       29     yes   no   \n",
      "2   33  entrepreneur  married  secondary      no        2     yes  yes   \n",
      "3   47   blue-collar  married    unknown      no     1506     yes   no   \n",
      "4   33       unknown   single    unknown      no        1      no   no   \n",
      "\n",
      "   contact  day month  duration  campaign  pdays  previous poutcome   y  \n",
      "0  unknown    5   may       261         1     -1         0  unknown  no  \n",
      "1  unknown    5   may       151         1     -1         0  unknown  no  \n",
      "2  unknown    5   may        76         1     -1         0  unknown  no  \n",
      "3  unknown    5   may        92         1     -1         0  unknown  no  \n",
      "4  unknown    5   may       198         1     -1         0  unknown  no  \n",
      "['yes' 'no']\n"
     ]
    }
   ],
   "source": [
    "import pandas as pd\n",
    "import numpy as np\n",
    "from sklearn.model_selection import train_test_split\n",
    "from sklearn.preprocessing import StandardScaler\n",
    "# Load the CSV file into a DataFrame\n",
    "df = pd.read_csv('bank-full.csv', delimiter=';')\n",
    "\n",
    "# Display the first few rows of the DataFrame\n",
    "print(df.head())\n",
    "print(df['housing'].unique())"
   ]
  },
  {
   "cell_type": "code",
   "execution_count": 2,
   "id": "f7937eae-3f18-4b09-9929-6f179da2d117",
   "metadata": {},
   "outputs": [],
   "source": [
    "from sklearn.metrics import confusion_matrix, accuracy_score\n",
    "\n",
    "def calculate_metrics(y_true, y_pred):\n",
    "    # Calculate confusion matrix\n",
    "    tn, fp, fn, tp = confusion_matrix(y_true, y_pred).ravel()\n",
    "    \n",
    "    # Calculate accuracy\n",
    "    accuracy = accuracy_score(y_true, y_pred)\n",
    "\n",
    "    # Calculate True Positive Rate (Sensitivity/Recall)\n",
    "    tpr = tp / (tp + fn) if (tp + fn) != 0 else 0\n",
    "\n",
    "    # Calculate True Negative Rate (Specificity)\n",
    "    tnr = tn / (tn + fp) if (tn + fp) != 0 else 0\n",
    "\n",
    "    return accuracy, tpr, tnr"
   ]
  },
  {
   "cell_type": "code",
   "execution_count": 3,
   "id": "5e507853-1198-45f9-ae80-10189eeece1d",
   "metadata": {},
   "outputs": [
    {
     "name": "stdout",
     "output_type": "stream",
     "text": [
      "<class 'pandas.core.frame.DataFrame'>\n",
      "Index: 36168 entries, 3344 to 15795\n",
      "Data columns (total 37 columns):\n",
      " #   Column               Non-Null Count  Dtype\n",
      "---  ------               --------------  -----\n",
      " 0   age                  36168 non-null  int64\n",
      " 1   default              36168 non-null  bool \n",
      " 2   balance              36168 non-null  int64\n",
      " 3   housing              36168 non-null  bool \n",
      " 4   loan                 36168 non-null  bool \n",
      " 5   day                  36168 non-null  int64\n",
      " 6   month                36168 non-null  int64\n",
      " 7   duration             36168 non-null  int64\n",
      " 8   campaign             36168 non-null  int64\n",
      " 9   pdays                36168 non-null  int64\n",
      " 10  previous             36168 non-null  int64\n",
      " 11  job_admin.           36168 non-null  bool \n",
      " 12  job_blue-collar      36168 non-null  bool \n",
      " 13  job_entrepreneur     36168 non-null  bool \n",
      " 14  job_housemaid        36168 non-null  bool \n",
      " 15  job_management       36168 non-null  bool \n",
      " 16  job_retired          36168 non-null  bool \n",
      " 17  job_self-employed    36168 non-null  bool \n",
      " 18  job_services         36168 non-null  bool \n",
      " 19  job_student          36168 non-null  bool \n",
      " 20  job_technician       36168 non-null  bool \n",
      " 21  job_unemployed       36168 non-null  bool \n",
      " 22  job_unknown          36168 non-null  bool \n",
      " 23  marital_divorced     36168 non-null  bool \n",
      " 24  marital_married      36168 non-null  bool \n",
      " 25  marital_single       36168 non-null  bool \n",
      " 26  education_primary    36168 non-null  bool \n",
      " 27  education_secondary  36168 non-null  bool \n",
      " 28  education_tertiary   36168 non-null  bool \n",
      " 29  education_unknown    36168 non-null  bool \n",
      " 30  contact_cellular     36168 non-null  bool \n",
      " 31  contact_telephone    36168 non-null  bool \n",
      " 32  contact_unknown      36168 non-null  bool \n",
      " 33  poutcome_failure     36168 non-null  bool \n",
      " 34  poutcome_other       36168 non-null  bool \n",
      " 35  poutcome_success     36168 non-null  bool \n",
      " 36  poutcome_unknown     36168 non-null  bool \n",
      "dtypes: bool(29), int64(8)\n",
      "memory usage: 3.5 MB\n"
     ]
    }
   ],
   "source": [
    "# Mapping for month conversion\n",
    "month_mapping = {\n",
    "    'jan': 1, 'feb': 2, 'mar': 3, 'apr': 4, 'may': 5, 'jun': 6, \n",
    "    'jul': 7, 'aug': 8, 'sep': 9, 'oct': 10, 'nov': 11, 'dec': 12\n",
    "}\n",
    "df['month'] = df['month'].map(month_mapping)\n",
    "# Convert 'housing', 'default', and 'loan' to boolean\n",
    "df['housing'] = df['housing'].map({'yes': True, 'no': False})\n",
    "df['default'] = df['default'].map({'yes': True, 'no': False})\n",
    "df['loan'] = df['loan'].map({'yes': True, 'no': False})\n",
    "\n",
    "# Separate the dataset into features (X) and target (y)\n",
    "X = df.drop('y', axis=1)\n",
    "y = df['y']\n",
    "\n",
    "# Create dummy variables for the remaining categorical features in X\n",
    "X_dummies = pd.get_dummies(X)\n",
    "\n",
    "# Split into training and test sets\n",
    "X_train, X_test, y_train, y_test = train_test_split(X_dummies, y, test_size=0.2, random_state=42)\n",
    "X_train.info()"
   ]
  },
  {
   "cell_type": "code",
   "execution_count": null,
   "id": "b66d5a98-8c20-455f-bd11-fdc93eca17ae",
   "metadata": {},
   "outputs": [],
   "source": []
  },
  {
   "cell_type": "code",
   "execution_count": 4,
   "id": "3355fde5-8c21-46a9-8019-4422998e6ec4",
   "metadata": {},
   "outputs": [
    {
     "data": {
      "text/plain": [
       "(0.06169271469116211,\n",
       " 0.9118004866180048,\n",
       " 0.875704965166427,\n",
       " 0.27956003666361134,\n",
       " 0.9574949698189135)"
      ]
     },
     "execution_count": 4,
     "metadata": {},
     "output_type": "execute_result"
    }
   ],
   "source": [
    "from sklearn.pipeline import Pipeline\n",
    "from sklearn.neighbors import KNeighborsClassifier\n",
    "from sklearn.metrics import accuracy_score\n",
    "import time\n",
    "X_train_KNN = np.array(X_train)\n",
    "X_test_KNN = np.array(X_test)\n",
    "# K-Nearest Neighbors pipeline\n",
    "knn_pipeline = Pipeline([\n",
    "    ('knn', KNeighborsClassifier(n_neighbors=5))\n",
    "])\n",
    "\n",
    "# Start timing\n",
    "start_time = time.time()\n",
    "\n",
    "# Fit the model\n",
    "knn_pipeline.fit(X_train_KNN, y_train)\n",
    "\n",
    "# Calculate runtime\n",
    "knn_train_time = time.time() - start_time\n",
    "\n",
    "# Score on train and test sets\n",
    "knn_train_score = np.mean(knn_pipeline.predict(X_train_KNN)== y_train)\n",
    "knn_test_score = np.mean(knn_pipeline.predict(X_test_KNN)== y_test)\n",
    "knn_predictions = knn_pipeline.predict(X_test_KNN)\n",
    "knn_accuracy, knn_tpr, knn_tnr = calculate_metrics(y_test, knn_predictions)\n",
    "knn_train_time, knn_train_score, knn_accuracy, knn_tpr, knn_tnr"
   ]
  },
  {
   "cell_type": "code",
   "execution_count": 5,
   "id": "f9fab2ec-1701-4105-9da3-f67a0628c074",
   "metadata": {},
   "outputs": [
    {
     "data": {
      "text/plain": [
       "(2.164151191711426,\n",
       " 0.9010451227604512,\n",
       " 0.8979321021784806,\n",
       " 0.32997250229147573,\n",
       " 0.9758551307847082)"
      ]
     },
     "execution_count": 5,
     "metadata": {},
     "output_type": "execute_result"
    }
   ],
   "source": [
    "from sklearn.pipeline import Pipeline\n",
    "from sklearn.linear_model import LogisticRegression\n",
    "import time\n",
    "\n",
    "# Logistic Regression pipeline\n",
    "logreg_pipeline = Pipeline([\n",
    "    ('logreg', LogisticRegression(max_iter=10000))\n",
    "])\n",
    "\n",
    "# Start timing\n",
    "start_time = time.time()\n",
    "\n",
    "# Fit the model\n",
    "logreg_pipeline.fit(X_train, y_train)\n",
    "\n",
    "# Calculate runtime\n",
    "logreg_train_time = time.time() - start_time\n",
    "\n",
    "# Score on train and test sets\n",
    "logreg_train_score = logreg_pipeline.score(X_train, y_train)\n",
    "logreg_test_score = logreg_pipeline.score(X_test, y_test)\n",
    "logreg_predictions = logreg_pipeline.predict(X_test)\n",
    "logreg_accuracy, logreg_tpr, logreg_tnr = calculate_metrics(y_test, logreg_predictions)\n",
    "logreg_train_time, logreg_train_score, logreg_accuracy, logreg_tpr, logreg_tnr"
   ]
  },
  {
   "cell_type": "code",
   "execution_count": 6,
   "id": "ba8357ff-2c54-479d-a097-001fef0ae150",
   "metadata": {},
   "outputs": [
    {
     "data": {
      "text/plain": [
       "(0.24161672592163086,\n",
       " 0.873382726971138,\n",
       " 0.4940421631530706,\n",
       " 0.9254275653923542)"
      ]
     },
     "execution_count": 6,
     "metadata": {},
     "output_type": "execute_result"
    }
   ],
   "source": [
    "from sklearn.tree import DecisionTreeClassifier\n",
    "\n",
    "# Decision Tree pipeline\n",
    "dtree_pipeline = Pipeline([\n",
    "    ('dtree', DecisionTreeClassifier())\n",
    "])\n",
    "\n",
    "# Start timing\n",
    "start_time = time.time()\n",
    "\n",
    "# Fit the model\n",
    "dtree_pipeline.fit(X_train, y_train)\n",
    "\n",
    "# Calculate runtime\n",
    "dtree_train_time = time.time() - start_time\n",
    "\n",
    "# Score on train and test sets\n",
    "dtree_predictions = dtree_pipeline.predict(X_test)\n",
    "dtree_accuracy, dtree_tpr, dtree_tnr = calculate_metrics(y_test, dtree_predictions)\n",
    "dtree_train_time, dtree_accuracy, dtree_tpr, dtree_tnr"
   ]
  },
  {
   "cell_type": "code",
   "execution_count": 7,
   "id": "2f846346-37e0-4977-8ca2-a1b9725916e7",
   "metadata": {},
   "outputs": [
    {
     "data": {
      "text/plain": [
       "(12.310591220855713,\n",
       " 0.8794647793873714,\n",
       " 0.006416131989000917,\n",
       " 0.9992454728370221)"
      ]
     },
     "execution_count": 7,
     "metadata": {},
     "output_type": "execute_result"
    }
   ],
   "source": [
    "from sklearn.svm import SVC\n",
    "\n",
    "# Support Vector Machine pipeline\n",
    "svm_pipeline = Pipeline([\n",
    "    ('svm', SVC())\n",
    "])\n",
    "\n",
    "# Start timing\n",
    "start_time = time.time()\n",
    "\n",
    "# Fit the model\n",
    "svm_pipeline.fit(X_train, y_train)\n",
    "\n",
    "# Calculate runtime\n",
    "svm_train_time = time.time() - start_time\n",
    "\n",
    "# Score on train and test sets\n",
    "svm_predictions = svm_pipeline.predict(X_test)\n",
    "svm_accuracy, svm_tpr, svm_tnr = calculate_metrics(y_test, svm_predictions)\n",
    "svm_train_time,svm_accuracy, svm_tpr, svm_tnr\n"
   ]
  },
  {
   "cell_type": "code",
   "execution_count": 8,
   "id": "870f4b07-ec52-4eff-8a74-e9100f27b6af",
   "metadata": {},
   "outputs": [
    {
     "data": {
      "text/html": [
       "<div>\n",
       "<style scoped>\n",
       "    .dataframe tbody tr th:only-of-type {\n",
       "        vertical-align: middle;\n",
       "    }\n",
       "\n",
       "    .dataframe tbody tr th {\n",
       "        vertical-align: top;\n",
       "    }\n",
       "\n",
       "    .dataframe thead th {\n",
       "        text-align: right;\n",
       "    }\n",
       "</style>\n",
       "<table border=\"1\" class=\"dataframe\">\n",
       "  <thead>\n",
       "    <tr style=\"text-align: right;\">\n",
       "      <th></th>\n",
       "      <th>Model</th>\n",
       "      <th>Training Time (seconds)</th>\n",
       "      <th>Test Accuracy</th>\n",
       "      <th>True Positive Rate</th>\n",
       "      <th>True Negative Rate</th>\n",
       "    </tr>\n",
       "  </thead>\n",
       "  <tbody>\n",
       "    <tr>\n",
       "      <th>0</th>\n",
       "      <td>KNN</td>\n",
       "      <td>0.061693</td>\n",
       "      <td>0.875705</td>\n",
       "      <td>0.279560</td>\n",
       "      <td>0.957495</td>\n",
       "    </tr>\n",
       "    <tr>\n",
       "      <th>1</th>\n",
       "      <td>Logistic Regression</td>\n",
       "      <td>2.164151</td>\n",
       "      <td>0.897932</td>\n",
       "      <td>0.329973</td>\n",
       "      <td>0.975855</td>\n",
       "    </tr>\n",
       "    <tr>\n",
       "      <th>2</th>\n",
       "      <td>Decision Tree</td>\n",
       "      <td>0.241617</td>\n",
       "      <td>0.873383</td>\n",
       "      <td>0.494042</td>\n",
       "      <td>0.925428</td>\n",
       "    </tr>\n",
       "    <tr>\n",
       "      <th>3</th>\n",
       "      <td>SVM</td>\n",
       "      <td>12.310591</td>\n",
       "      <td>0.879465</td>\n",
       "      <td>0.006416</td>\n",
       "      <td>0.999245</td>\n",
       "    </tr>\n",
       "  </tbody>\n",
       "</table>\n",
       "</div>"
      ],
      "text/plain": [
       "                 Model  Training Time (seconds)  Test Accuracy  \\\n",
       "0                  KNN                 0.061693       0.875705   \n",
       "1  Logistic Regression                 2.164151       0.897932   \n",
       "2        Decision Tree                 0.241617       0.873383   \n",
       "3                  SVM                12.310591       0.879465   \n",
       "\n",
       "   True Positive Rate  True Negative Rate  \n",
       "0            0.279560            0.957495  \n",
       "1            0.329973            0.975855  \n",
       "2            0.494042            0.925428  \n",
       "3            0.006416            0.999245  "
      ]
     },
     "execution_count": 8,
     "metadata": {},
     "output_type": "execute_result"
    }
   ],
   "source": [
    "results_df = pd.DataFrame({\n",
    "    'Model': ['KNN', 'Logistic Regression', 'Decision Tree', 'SVM'],\n",
    "    'Training Time (seconds)': [knn_train_time, logreg_train_time, dtree_train_time, svm_train_time],\n",
    "    'Test Accuracy': [knn_accuracy, logreg_accuracy, dtree_accuracy, svm_accuracy],\n",
    "    'True Positive Rate': [knn_tpr, logreg_tpr, dtree_tpr, svm_tpr],\n",
    "    'True Negative Rate': [knn_tnr, logreg_tnr, dtree_tnr, svm_tnr]\n",
    "})\n",
    "results_df"
   ]
  },
  {
   "cell_type": "code",
   "execution_count": 9,
   "id": "c31e13ad-61e7-43c7-81ff-5f444a4b0a3b",
   "metadata": {},
   "outputs": [
    {
     "data": {
      "text/plain": [
       "(0.07643747329711914,\n",
       " 0.9118004866180048,\n",
       " 0.8909653875926131,\n",
       " 0.31897341888175984,\n",
       " 0.9694416498993964)"
      ]
     },
     "execution_count": 9,
     "metadata": {},
     "output_type": "execute_result"
    }
   ],
   "source": [
    "\n",
    "# K-Nearest Neighbors pipeline\n",
    "knn_pipeline = Pipeline([\n",
    "    ('scaler', StandardScaler()),\n",
    "    ('knn', KNeighborsClassifier(n_neighbors=5))\n",
    "])\n",
    "\n",
    "# Start timing\n",
    "start_time = time.time()\n",
    "\n",
    "# Fit the model\n",
    "knn_pipeline.fit(X_train_KNN, y_train)\n",
    "\n",
    "# Calculate runtime\n",
    "knn_train_time = time.time() - start_time\n",
    "\n",
    "# Score on train and test sets\n",
    "knn_predictions = knn_pipeline.predict(X_test_KNN)\n",
    "knn_accuracy, knn_tpr, knn_tnr = calculate_metrics(y_test, knn_predictions)\n",
    "knn_train_time, knn_train_score, knn_accuracy, knn_tpr, knn_tnr"
   ]
  },
  {
   "cell_type": "code",
   "execution_count": 10,
   "id": "b748c143-efb9-4ac2-9e74-c9c8568728f8",
   "metadata": {},
   "outputs": [
    {
     "data": {
      "text/plain": [
       "(0.0880274772644043,\n",
       " 0.9010451227604512,\n",
       " 0.8977109366360722,\n",
       " 0.3290559120073327,\n",
       " 0.9757293762575453)"
      ]
     },
     "execution_count": 10,
     "metadata": {},
     "output_type": "execute_result"
    }
   ],
   "source": [
    "# Logistic Regression pipeline\n",
    "logreg_pipeline = Pipeline([\n",
    "    ('scaler', StandardScaler()),\n",
    "    ('logreg', LogisticRegression(max_iter=10000))\n",
    "])\n",
    "\n",
    "# Start timing\n",
    "start_time = time.time()\n",
    "\n",
    "# Fit the model\n",
    "logreg_pipeline.fit(X_train, y_train)\n",
    "\n",
    "# Calculate runtime\n",
    "logreg_train_time = time.time() - start_time\n",
    "\n",
    "# Score on train and test sets\n",
    "logreg_predictions = logreg_pipeline.predict(X_test)\n",
    "logreg_accuracy, logreg_tpr, logreg_tnr = calculate_metrics(y_test, logreg_predictions)\n",
    "logreg_train_time, logreg_train_score, logreg_accuracy, logreg_tpr, logreg_tnr"
   ]
  },
  {
   "cell_type": "code",
   "execution_count": 11,
   "id": "7f644e49-1349-4737-aad3-bdc55019260d",
   "metadata": {},
   "outputs": [
    {
     "data": {
      "text/plain": [
       "(14.3332200050354, 0.8967156916952339, 0.27956003666361134, 0.9813883299798792)"
      ]
     },
     "execution_count": 11,
     "metadata": {},
     "output_type": "execute_result"
    }
   ],
   "source": [
    "\n",
    "# Support Vector Machine pipeline\n",
    "svm_pipeline = Pipeline([\n",
    "    ('scaler', StandardScaler()),\n",
    "    ('svm', SVC())\n",
    "])\n",
    "\n",
    "# Start timing\n",
    "start_time = time.time()\n",
    "\n",
    "# Fit the model\n",
    "svm_pipeline.fit(X_train, y_train)\n",
    "\n",
    "# Calculate runtime\n",
    "svm_train_time = time.time() - start_time\n",
    "\n",
    "# Score on train and test sets\n",
    "svm_predictions = svm_pipeline.predict(X_test)\n",
    "svm_accuracy, svm_tpr, svm_tnr = calculate_metrics(y_test, svm_predictions)\n",
    "svm_train_time,svm_accuracy, svm_tpr, svm_tnr\n"
   ]
  },
  {
   "cell_type": "code",
   "execution_count": null,
   "id": "f3188a5b-bda3-404d-b55f-1857c48c5ec3",
   "metadata": {},
   "outputs": [],
   "source": []
  },
  {
   "cell_type": "code",
   "execution_count": 12,
   "id": "943753d8-1f3c-4cb8-896a-da2a2d19daf4",
   "metadata": {},
   "outputs": [],
   "source": [
    "results_df = pd.DataFrame({\n",
    "    'Model': ['KNN', 'Logistic Regression', 'Decision Tree', 'SVM'],\n",
    "    'Training Time (seconds)': [knn_train_time, logreg_train_time, dtree_train_time, svm_train_time],\n",
    "    'Test Accuracy': [knn_accuracy, logreg_accuracy, dtree_accuracy, svm_accuracy],\n",
    "    'True Positive Rate': [knn_tpr, logreg_tpr, dtree_tpr, svm_tpr],\n",
    "    'True Negative Rate': [knn_tnr, logreg_tnr, dtree_tnr, svm_tnr]\n",
    "})"
   ]
  },
  {
   "cell_type": "code",
   "execution_count": 13,
   "id": "2a8e62bd-bb79-43ba-adcd-f09ccac1a662",
   "metadata": {},
   "outputs": [
    {
     "name": "stderr",
     "output_type": "stream",
     "text": [
      "C:\\Users\\inner\\AppData\\Local\\Temp\\ipykernel_58444\\2095413489.py:1: FutureWarning: Series.__getitem__ treating keys as positions is deprecated. In a future version, integer keys will always be treated as labels (consistent with DataFrame behavior). To access a value by position, use `ser.iloc[pos]`\n",
      "  y_test.value_counts()[0]/len(y_test)\n"
     ]
    },
    {
     "data": {
      "text/plain": [
       "0.8793541966161672"
      ]
     },
     "execution_count": 13,
     "metadata": {},
     "output_type": "execute_result"
    }
   ],
   "source": [
    "y_test.value_counts()[0]/len(y_test)"
   ]
  },
  {
   "cell_type": "code",
   "execution_count": 14,
   "id": "eff6bf40-aa74-4e92-8a99-1570d8e9b4f1",
   "metadata": {},
   "outputs": [
    {
     "data": {
      "text/plain": [
       "y\n",
       "no     7952\n",
       "yes    1091\n",
       "Name: count, dtype: int64"
      ]
     },
     "execution_count": 14,
     "metadata": {},
     "output_type": "execute_result"
    }
   ],
   "source": [
    "y_test.value_counts()"
   ]
  },
  {
   "cell_type": "code",
   "execution_count": 17,
   "id": "dbcf1e02-808f-49f9-aa94-6190c8e23d13",
   "metadata": {},
   "outputs": [
    {
     "name": "stderr",
     "output_type": "stream",
     "text": [
      "C:\\Users\\inner\\anaconda3\\Lib\\site-packages\\sklearn\\base.py:457: UserWarning: X has feature names, but StandardScaler was fitted without feature names\n",
      "  warnings.warn(\n"
     ]
    },
    {
     "data": {
      "text/plain": [
       "(0.08244132995605469,\n",
       " 0.9118004866180048,\n",
       " 0.8719451509454826,\n",
       " 0.5041246562786434,\n",
       " 0.9224094567404426)"
      ]
     },
     "execution_count": 17,
     "metadata": {},
     "output_type": "execute_result"
    }
   ],
   "source": [
    "\n",
    "# K-Nearest Neighbors pipeline\n",
    "# Custom weight function\n",
    "\n",
    "    \n",
    "knn_pipeline = Pipeline([\n",
    "    ('scaler', StandardScaler()),\n",
    "    ('knn', KNeighborsClassifier(n_neighbors=5))\n",
    "])\n",
    "\n",
    "# Start timing\n",
    "start_time = time.time()\n",
    "\n",
    "# Fit the model\n",
    "knn_pipeline.fit(X_train_KNN, y_train)\n",
    "\n",
    "# Calculate runtime\n",
    "knn_train_time = time.time() - start_time\n",
    "\n",
    "# Score on train and test sets\n",
    "knn_predictions = knn_pipeline.predict(X_test_KNN)\n",
    "\n",
    "X_test_scaled = knn_pipeline.named_steps['scaler'].transform(X_test)\n",
    "\n",
    "# Use the KNN model to find the neighbors\n",
    "knn_model = knn_pipeline.named_steps['knn']\n",
    "neighbors = knn_model.kneighbors(X_test_scaled, return_distance=False)\n",
    "\n",
    "threshold = 0.3  # 30%\n",
    "custom_predictions = []\n",
    "for neighbor_indices in neighbors:\n",
    "    # Count 'yes' neighbors\n",
    "    yes_votes = sum(y_train.iloc[neighbor_indices] == 'yes')\n",
    "    # Apply the custom decision rule\n",
    "    if yes_votes / len(neighbor_indices) >= threshold:\n",
    "        custom_predictions.append('yes')\n",
    "    else:\n",
    "        custom_predictions.append('no')\n",
    "\n",
    "# Convert to a NumPy array for performance\n",
    "custom_predictions = np.array(custom_predictions)\n",
    "\n",
    "\n",
    "\n",
    "knn_accuracy, knn_tpr, knn_tnr = calculate_metrics(y_test, custom_predictions)\n",
    "knn_train_time, knn_train_score, knn_accuracy, knn_tpr, knn_tnr"
   ]
  },
  {
   "cell_type": "code",
   "execution_count": 15,
   "id": "2b6e3432-0707-4fb1-9a2c-86b7ddc248dd",
   "metadata": {},
   "outputs": [
    {
     "data": {
      "text/html": [
       "<div>\n",
       "<style scoped>\n",
       "    .dataframe tbody tr th:only-of-type {\n",
       "        vertical-align: middle;\n",
       "    }\n",
       "\n",
       "    .dataframe tbody tr th {\n",
       "        vertical-align: top;\n",
       "    }\n",
       "\n",
       "    .dataframe thead th {\n",
       "        text-align: right;\n",
       "    }\n",
       "</style>\n",
       "<table border=\"1\" class=\"dataframe\">\n",
       "  <thead>\n",
       "    <tr style=\"text-align: right;\">\n",
       "      <th></th>\n",
       "      <th>Model</th>\n",
       "      <th>Training Time (seconds)</th>\n",
       "      <th>Test Accuracy</th>\n",
       "      <th>True Positive Rate</th>\n",
       "      <th>True Negative Rate</th>\n",
       "    </tr>\n",
       "  </thead>\n",
       "  <tbody>\n",
       "    <tr>\n",
       "      <th>0</th>\n",
       "      <td>KNN</td>\n",
       "      <td>0.076437</td>\n",
       "      <td>0.890965</td>\n",
       "      <td>0.318973</td>\n",
       "      <td>0.969442</td>\n",
       "    </tr>\n",
       "    <tr>\n",
       "      <th>1</th>\n",
       "      <td>Logistic Regression</td>\n",
       "      <td>0.088027</td>\n",
       "      <td>0.897711</td>\n",
       "      <td>0.329056</td>\n",
       "      <td>0.975729</td>\n",
       "    </tr>\n",
       "    <tr>\n",
       "      <th>2</th>\n",
       "      <td>Decision Tree</td>\n",
       "      <td>0.241617</td>\n",
       "      <td>0.873383</td>\n",
       "      <td>0.494042</td>\n",
       "      <td>0.925428</td>\n",
       "    </tr>\n",
       "    <tr>\n",
       "      <th>3</th>\n",
       "      <td>SVM</td>\n",
       "      <td>14.333220</td>\n",
       "      <td>0.896716</td>\n",
       "      <td>0.279560</td>\n",
       "      <td>0.981388</td>\n",
       "    </tr>\n",
       "  </tbody>\n",
       "</table>\n",
       "</div>"
      ],
      "text/plain": [
       "                 Model  Training Time (seconds)  Test Accuracy  \\\n",
       "0                  KNN                 0.076437       0.890965   \n",
       "1  Logistic Regression                 0.088027       0.897711   \n",
       "2        Decision Tree                 0.241617       0.873383   \n",
       "3                  SVM                14.333220       0.896716   \n",
       "\n",
       "   True Positive Rate  True Negative Rate  \n",
       "0            0.318973            0.969442  \n",
       "1            0.329056            0.975729  \n",
       "2            0.494042            0.925428  \n",
       "3            0.279560            0.981388  "
      ]
     },
     "execution_count": 15,
     "metadata": {},
     "output_type": "execute_result"
    }
   ],
   "source": [
    "results_df"
   ]
  },
  {
   "cell_type": "code",
   "execution_count": 19,
   "id": "b0ed4731-063c-4c85-9856-c54f89e6f87d",
   "metadata": {},
   "outputs": [
    {
     "data": {
      "text/plain": [
       "(0.24678349494934082,\n",
       " 0.877031958420878,\n",
       " 0.4995417048579285,\n",
       " 0.9288229376257545)"
      ]
     },
     "execution_count": 19,
     "metadata": {},
     "output_type": "execute_result"
    }
   ],
   "source": []
  },
  {
   "cell_type": "code",
   "execution_count": null,
   "id": "2a680637-f834-4076-9fc6-dfa995ba2318",
   "metadata": {},
   "outputs": [],
   "source": []
  }
 ],
 "metadata": {
  "kernelspec": {
   "display_name": "Python 3 (ipykernel)",
   "language": "python",
   "name": "python3"
  },
  "language_info": {
   "codemirror_mode": {
    "name": "ipython",
    "version": 3
   },
   "file_extension": ".py",
   "mimetype": "text/x-python",
   "name": "python",
   "nbconvert_exporter": "python",
   "pygments_lexer": "ipython3",
   "version": "3.11.5"
  }
 },
 "nbformat": 4,
 "nbformat_minor": 5
}
